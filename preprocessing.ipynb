## 📊 Day 5 – Data Normalization & Scaling
- Identified numerical columns in the dataset.
- Applied `MinMaxScaler` to normalize values between 0
and 1.
- Saved the preprocessed dataset as
`data/preprocessed_data.csv`.
- All steps are documented in `preprocessing.ipynb`.
